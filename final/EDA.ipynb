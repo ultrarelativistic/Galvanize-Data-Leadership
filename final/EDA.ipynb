{
 "cells": [
  {
   "cell_type": "code",
   "execution_count": 326,
   "metadata": {
    "collapsed": false
   },
   "outputs": [
    {
     "data": {
      "text/plain": [
       "DataFrame[age: int, female: int, flu_season: int, ed_admit: int, severity_score: int, comorbidity_score: int, readmit30: int, id: bigint]"
      ]
     },
     "execution_count": 326,
     "metadata": {},
     "output_type": "execute_result"
    }
   ],
   "source": [
    "# MUST AT LEAST RUN THIS ONE TO GET THE DATA VARIABLE. OTHERS ARE OPTIONAL.\n",
    "%matplotlib inline\n",
    "from pyspark.sql import Row\n",
    "from pyspark import SparkContext\n",
    "import seaborn as sns\n",
    "import re\n",
    "import numpy as np\n",
    "import pandas as pd\n",
    "from scipy import stats, integrate\n",
    "import matplotlib.pyplot as plt\n",
    "from datetime import datetime\n",
    "from pyspark.sql.functions import col,udf, unix_timestamp\n",
    "from pyspark.sql.types import DateType\n",
    "from pyspark.sql.functions import udf\n",
    "from pyspark.sql.types import DataType\n",
    "from pyspark.sql.types import IntegerType\n",
    "from pyspark.sql.types import DoubleType\n",
    "import locale\n",
    "from pyspark.sql.functions import split, explode\n",
    "from pyspark.sql.functions import monotonically_increasing_id\n",
    "from operator import *\n",
    "from pyspark.mllib.stat import Statistics\n",
    "from pyspark.mllib.classification import NaiveBayes, NaiveBayesModel\n",
    "from pyspark.mllib.util import MLUtils\n",
    "from pyspark.mllib.regression import LabeledPoint\n",
    "from pyspark.ml.feature import VectorAssembler\n",
    "\n",
    "data = spark.read.csv('Final Project Data_Case.csv', header=True, inferSchema=True)\n",
    "\n",
    "# define a primary key\n",
    "data = data.withColumn(\"id\", monotonically_increasing_id())\n",
    "# fix column names\n",
    "for column in data.columns:\n",
    "    data = data.withColumnRenamed(column, column.lower().replace(' ','_'))\n",
    "data.persist(pyspark.StorageLevel.MEMORY_ONLY)\n"
   ]
  },
  {
   "cell_type": "code",
   "execution_count": 305,
   "metadata": {
    "collapsed": false,
    "scrolled": false
   },
   "outputs": [
    {
     "name": "stdout",
     "output_type": "stream",
     "text": [
      "+-------+-----+------+----------+--------+--------------+-----------------+---------+------------------+\n",
      "|summary|  age|female|flu_season|ed_admit|severity_score|comorbidity_score|readmit30|                id|\n",
      "+-------+-----+------+----------+--------+--------------+-----------------+---------+------------------+\n",
      "|  count| 4382|  4382|      4382|    4382|          4382|             4382|     4382|              4382|\n",
      "|   mean|76.84| 0.469|     0.408|   0.809|         22.35|            94.73|    0.227|            2190.5|\n",
      "| stddev|7.904| 0.499|     0.491|   0.392|         18.00|            57.14|    0.419|1265.1187691280215|\n",
      "|    min|   65|     0|         0|       0|             1|                1|        0|                 0|\n",
      "|    max|  105|     1|         1|       1|           112|              322|        1|              4381|\n",
      "+-------+-----+------+----------+--------+--------------+-----------------+---------+------------------+\n",
      "\n"
     ]
    }
   ],
   "source": [
    "x = data.describe()\n",
    "x = x.withColumn('age', x.age.substr(0,5))\n",
    "x = x.withColumn('female', x.female.substr(0,5))\n",
    "x = x.withColumn('flu_season', x.flu_season.substr(0,5))\n",
    "x = x.withColumn('ed_admit', x.ed_admit.substr(0,5))\n",
    "x = x.withColumn('severity_score', x['severity_score'].substr(0,5))\n",
    "x = x.withColumn('comorbidity_score', x['comorbidity_score'].substr(0,5))\n",
    "x = x.withColumn('readmit30', x['readmit30'].substr(0,5))\n",
    "x.show()"
   ]
  },
  {
   "cell_type": "code",
   "execution_count": 306,
   "metadata": {
    "collapsed": false
   },
   "outputs": [],
   "source": [
    "# sns.pairplot(data.toPandas())"
   ]
  },
  {
   "cell_type": "markdown",
   "metadata": {},
   "source": [
    "# Distributions overall"
   ]
  },
  {
   "cell_type": "code",
   "execution_count": 307,
   "metadata": {
    "collapsed": false
   },
   "outputs": [
    {
     "data": {
      "text/plain": [
       "array([[<matplotlib.axes._subplots.AxesSubplot object at 0x121e37278>,\n",
       "        <matplotlib.axes._subplots.AxesSubplot object at 0x121686be0>,\n",
       "        <matplotlib.axes._subplots.AxesSubplot object at 0x1223428d0>],\n",
       "       [<matplotlib.axes._subplots.AxesSubplot object at 0x121c36208>,\n",
       "        <matplotlib.axes._subplots.AxesSubplot object at 0x121faaa58>,\n",
       "        <matplotlib.axes._subplots.AxesSubplot object at 0x12236cc50>],\n",
       "       [<matplotlib.axes._subplots.AxesSubplot object at 0x12218f400>,\n",
       "        <matplotlib.axes._subplots.AxesSubplot object at 0x121ce5fd0>,\n",
       "        <matplotlib.axes._subplots.AxesSubplot object at 0x12216b0b8>]], dtype=object)"
      ]
     },
     "execution_count": 307,
     "metadata": {},
     "output_type": "execute_result"
    },
    {
     "data": {
      "image/png": "[encoded data removed]",
      "text/plain": [
       "<matplotlib.figure.Figure at 0x121e37da0>"
      ]
     },
     "metadata": {},
     "output_type": "display_data"
    }
   ],
   "source": [
    "x = data.toPandas()\n",
    "x.hist()"
   ]
  },
  {
   "cell_type": "markdown",
   "metadata": {},
   "source": [
    "Distributions\n",
    "Age - as expected\n",
    "Cormoribidity score - as expected.\n",
    "ed admit - shows our problem\n",
    "female - males are disportionatly represented according to population distribution\n",
    "flu_season - exceptionally high given that it is 4 months of the year\n",
    "severity score - good difference in distribution\n",
    "\n",
    "\n",
    "\"Women make up a significant majority of the older population; the female share increases with age.\" Figure 28 shows that there are 58 males for every 100 females at 80 yrs old.\n",
    "http://www.un.org/esa/population/publications/worldageing19502050/pdf/90chapteriv.pdf\n",
    "\n",
    "graph of flu season\n",
    "https://www.cdc.gov/flu/about/season/flu-season.htm\n"
   ]
  },
  {
   "cell_type": "code",
   "execution_count": 308,
   "metadata": {
    "collapsed": false
   },
   "outputs": [
    {
     "name": "stdout",
     "output_type": "stream",
     "text": [
      "+-------+-----+------+----------+--------+--------------+-----------------+---------+------------------+\n",
      "|summary|  age|female|flu_season|ed_admit|severity_score|comorbidity_score|readmit30|                id|\n",
      "+-------+-----+------+----------+--------+--------------+-----------------+---------+------------------+\n",
      "|  count| 4382|  4382|      4382|    4382|          4382|             4382|     4382|              4382|\n",
      "|   mean|76.84| 0.469|     0.408|   0.809|         22.35|            94.73|    0.227|            2190.5|\n",
      "| stddev|7.904| 0.499|     0.491|   0.392|         18.00|            57.14|    0.419|1265.1187691280215|\n",
      "|    min|   65|     0|         0|       0|             1|                1|        0|                 0|\n",
      "|    max|  105|     1|         1|       1|           112|              322|        1|              4381|\n",
      "+-------+-----+------+----------+--------+--------------+-----------------+---------+------------------+\n",
      "\n"
     ]
    }
   ],
   "source": [
    "x = data.describe()\n",
    "x = x.withColumn('age', x.age.substr(0,5))\n",
    "x = x.withColumn('female', x.female.substr(0,5))\n",
    "x = x.withColumn('flu_season', x.flu_season.substr(0,5))\n",
    "x = x.withColumn('ed_admit', x.ed_admit.substr(0,5))\n",
    "x = x.withColumn('severity_score', x['severity_score'].substr(0,5))\n",
    "x = x.withColumn('comorbidity_score', x['comorbidity_score'].substr(0,5))\n",
    "x = x.withColumn('readmit30', x['readmit30'].substr(0,5))\n",
    "x.show()"
   ]
  },
  {
   "cell_type": "markdown",
   "metadata": {},
   "source": [
    "# Distributions for not readmitted patients "
   ]
  },
  {
   "cell_type": "code",
   "execution_count": 309,
   "metadata": {
    "collapsed": false
   },
   "outputs": [
    {
     "data": {
      "text/html": [
       "<div>\n",
       "<table border=\"1\" class=\"dataframe\">\n",
       "  <thead>\n",
       "    <tr style=\"text-align: right;\">\n",
       "      <th></th>\n",
       "      <th>age</th>\n",
       "      <th>female</th>\n",
       "      <th>flu_season</th>\n",
       "      <th>ed_admit</th>\n",
       "      <th>severity_score</th>\n",
       "      <th>comorbidity_score</th>\n",
       "      <th>readmit30</th>\n",
       "      <th>id</th>\n",
       "    </tr>\n",
       "  </thead>\n",
       "  <tbody>\n",
       "    <tr>\n",
       "      <th>count</th>\n",
       "      <td>3384.000000</td>\n",
       "      <td>3384.000000</td>\n",
       "      <td>3384.000000</td>\n",
       "      <td>3384.000000</td>\n",
       "      <td>3384.000000</td>\n",
       "      <td>3384.000000</td>\n",
       "      <td>3384.0</td>\n",
       "      <td>3384.000000</td>\n",
       "    </tr>\n",
       "    <tr>\n",
       "      <th>mean</th>\n",
       "      <td>76.407506</td>\n",
       "      <td>0.457742</td>\n",
       "      <td>0.375591</td>\n",
       "      <td>0.797577</td>\n",
       "      <td>19.899823</td>\n",
       "      <td>82.849586</td>\n",
       "      <td>0.0</td>\n",
       "      <td>2188.880024</td>\n",
       "    </tr>\n",
       "    <tr>\n",
       "      <th>std</th>\n",
       "      <td>7.791228</td>\n",
       "      <td>0.498285</td>\n",
       "      <td>0.484347</td>\n",
       "      <td>0.401865</td>\n",
       "      <td>16.388527</td>\n",
       "      <td>50.307104</td>\n",
       "      <td>0.0</td>\n",
       "      <td>1267.202072</td>\n",
       "    </tr>\n",
       "    <tr>\n",
       "      <th>min</th>\n",
       "      <td>65.000000</td>\n",
       "      <td>0.000000</td>\n",
       "      <td>0.000000</td>\n",
       "      <td>0.000000</td>\n",
       "      <td>1.000000</td>\n",
       "      <td>1.000000</td>\n",
       "      <td>0.0</td>\n",
       "      <td>0.000000</td>\n",
       "    </tr>\n",
       "    <tr>\n",
       "      <th>25%</th>\n",
       "      <td>70.000000</td>\n",
       "      <td>0.000000</td>\n",
       "      <td>0.000000</td>\n",
       "      <td>1.000000</td>\n",
       "      <td>6.000000</td>\n",
       "      <td>46.000000</td>\n",
       "      <td>0.0</td>\n",
       "      <td>1088.750000</td>\n",
       "    </tr>\n",
       "    <tr>\n",
       "      <th>50%</th>\n",
       "      <td>76.000000</td>\n",
       "      <td>0.000000</td>\n",
       "      <td>0.000000</td>\n",
       "      <td>1.000000</td>\n",
       "      <td>17.000000</td>\n",
       "      <td>75.000000</td>\n",
       "      <td>0.0</td>\n",
       "      <td>2183.500000</td>\n",
       "    </tr>\n",
       "    <tr>\n",
       "      <th>75%</th>\n",
       "      <td>82.000000</td>\n",
       "      <td>1.000000</td>\n",
       "      <td>1.000000</td>\n",
       "      <td>1.000000</td>\n",
       "      <td>29.000000</td>\n",
       "      <td>114.000000</td>\n",
       "      <td>0.0</td>\n",
       "      <td>3293.250000</td>\n",
       "    </tr>\n",
       "    <tr>\n",
       "      <th>max</th>\n",
       "      <td>105.000000</td>\n",
       "      <td>1.000000</td>\n",
       "      <td>1.000000</td>\n",
       "      <td>1.000000</td>\n",
       "      <td>100.000000</td>\n",
       "      <td>309.000000</td>\n",
       "      <td>0.0</td>\n",
       "      <td>4381.000000</td>\n",
       "    </tr>\n",
       "  </tbody>\n",
       "</table>\n",
       "</div>"
      ],
      "text/plain": [
       "               age       female   flu_season     ed_admit  severity_score  \\\n",
       "count  3384.000000  3384.000000  3384.000000  3384.000000     3384.000000   \n",
       "mean     76.407506     0.457742     0.375591     0.797577       19.899823   \n",
       "std       7.791228     0.498285     0.484347     0.401865       16.388527   \n",
       "min      65.000000     0.000000     0.000000     0.000000        1.000000   \n",
       "25%      70.000000     0.000000     0.000000     1.000000        6.000000   \n",
       "50%      76.000000     0.000000     0.000000     1.000000       17.000000   \n",
       "75%      82.000000     1.000000     1.000000     1.000000       29.000000   \n",
       "max     105.000000     1.000000     1.000000     1.000000      100.000000   \n",
       "\n",
       "       comorbidity_score  readmit30           id  \n",
       "count        3384.000000     3384.0  3384.000000  \n",
       "mean           82.849586        0.0  2188.880024  \n",
       "std            50.307104        0.0  1267.202072  \n",
       "min             1.000000        0.0     0.000000  \n",
       "25%            46.000000        0.0  1088.750000  \n",
       "50%            75.000000        0.0  2183.500000  \n",
       "75%           114.000000        0.0  3293.250000  \n",
       "max           309.000000        0.0  4381.000000  "
      ]
     },
     "execution_count": 309,
     "metadata": {},
     "output_type": "execute_result"
    },
    {
     "data": {
      "image/png": "[encoded data removed]",
      "text/plain": [
       "<matplotlib.figure.Figure at 0x1219db4a8>"
      ]
     },
     "metadata": {},
     "output_type": "display_data"
    }
   ],
   "source": [
    "x = data.where(data.readmit30 == 0).toPandas()\n",
    "x.hist()\n",
    "x.describe()"
   ]
  },
  {
   "cell_type": "markdown",
   "metadata": {},
   "source": [
    "# Distributions for readmitted patients"
   ]
  },
  {
   "cell_type": "code",
   "execution_count": 310,
   "metadata": {
    "collapsed": false
   },
   "outputs": [
    {
     "data": {
      "text/html": [
       "<div>\n",
       "<table border=\"1\" class=\"dataframe\">\n",
       "  <thead>\n",
       "    <tr style=\"text-align: right;\">\n",
       "      <th></th>\n",
       "      <th>age</th>\n",
       "      <th>female</th>\n",
       "      <th>flu_season</th>\n",
       "      <th>ed_admit</th>\n",
       "      <th>severity_score</th>\n",
       "      <th>comorbidity_score</th>\n",
       "      <th>readmit30</th>\n",
       "      <th>id</th>\n",
       "    </tr>\n",
       "  </thead>\n",
       "  <tbody>\n",
       "    <tr>\n",
       "      <th>count</th>\n",
       "      <td>998.000000</td>\n",
       "      <td>998.000000</td>\n",
       "      <td>998.000000</td>\n",
       "      <td>998.000000</td>\n",
       "      <td>998.000000</td>\n",
       "      <td>998.000000</td>\n",
       "      <td>998.0</td>\n",
       "      <td>998.000000</td>\n",
       "    </tr>\n",
       "    <tr>\n",
       "      <th>mean</th>\n",
       "      <td>78.338677</td>\n",
       "      <td>0.508016</td>\n",
       "      <td>0.518036</td>\n",
       "      <td>0.848697</td>\n",
       "      <td>30.672345</td>\n",
       "      <td>135.038076</td>\n",
       "      <td>1.0</td>\n",
       "      <td>2195.992986</td>\n",
       "    </tr>\n",
       "    <tr>\n",
       "      <th>std</th>\n",
       "      <td>8.107077</td>\n",
       "      <td>0.500186</td>\n",
       "      <td>0.499925</td>\n",
       "      <td>0.358523</td>\n",
       "      <td>20.579027</td>\n",
       "      <td>60.469747</td>\n",
       "      <td>0.0</td>\n",
       "      <td>1258.646377</td>\n",
       "    </tr>\n",
       "    <tr>\n",
       "      <th>min</th>\n",
       "      <td>65.000000</td>\n",
       "      <td>0.000000</td>\n",
       "      <td>0.000000</td>\n",
       "      <td>0.000000</td>\n",
       "      <td>1.000000</td>\n",
       "      <td>1.000000</td>\n",
       "      <td>1.0</td>\n",
       "      <td>1.000000</td>\n",
       "    </tr>\n",
       "    <tr>\n",
       "      <th>25%</th>\n",
       "      <td>72.000000</td>\n",
       "      <td>0.000000</td>\n",
       "      <td>0.000000</td>\n",
       "      <td>1.000000</td>\n",
       "      <td>16.000000</td>\n",
       "      <td>87.000000</td>\n",
       "      <td>1.0</td>\n",
       "      <td>1134.750000</td>\n",
       "    </tr>\n",
       "    <tr>\n",
       "      <th>50%</th>\n",
       "      <td>78.000000</td>\n",
       "      <td>1.000000</td>\n",
       "      <td>1.000000</td>\n",
       "      <td>1.000000</td>\n",
       "      <td>28.000000</td>\n",
       "      <td>134.000000</td>\n",
       "      <td>1.0</td>\n",
       "      <td>2209.000000</td>\n",
       "    </tr>\n",
       "    <tr>\n",
       "      <th>75%</th>\n",
       "      <td>84.000000</td>\n",
       "      <td>1.000000</td>\n",
       "      <td>1.000000</td>\n",
       "      <td>1.000000</td>\n",
       "      <td>44.000000</td>\n",
       "      <td>178.000000</td>\n",
       "      <td>1.0</td>\n",
       "      <td>3266.000000</td>\n",
       "    </tr>\n",
       "    <tr>\n",
       "      <th>max</th>\n",
       "      <td>102.000000</td>\n",
       "      <td>1.000000</td>\n",
       "      <td>1.000000</td>\n",
       "      <td>1.000000</td>\n",
       "      <td>112.000000</td>\n",
       "      <td>322.000000</td>\n",
       "      <td>1.0</td>\n",
       "      <td>4373.000000</td>\n",
       "    </tr>\n",
       "  </tbody>\n",
       "</table>\n",
       "</div>"
      ],
      "text/plain": [
       "              age      female  flu_season    ed_admit  severity_score  \\\n",
       "count  998.000000  998.000000  998.000000  998.000000      998.000000   \n",
       "mean    78.338677    0.508016    0.518036    0.848697       30.672345   \n",
       "std      8.107077    0.500186    0.499925    0.358523       20.579027   \n",
       "min     65.000000    0.000000    0.000000    0.000000        1.000000   \n",
       "25%     72.000000    0.000000    0.000000    1.000000       16.000000   \n",
       "50%     78.000000    1.000000    1.000000    1.000000       28.000000   \n",
       "75%     84.000000    1.000000    1.000000    1.000000       44.000000   \n",
       "max    102.000000    1.000000    1.000000    1.000000      112.000000   \n",
       "\n",
       "       comorbidity_score  readmit30           id  \n",
       "count         998.000000      998.0   998.000000  \n",
       "mean          135.038076        1.0  2195.992986  \n",
       "std            60.469747        0.0  1258.646377  \n",
       "min             1.000000        1.0     1.000000  \n",
       "25%            87.000000        1.0  1134.750000  \n",
       "50%           134.000000        1.0  2209.000000  \n",
       "75%           178.000000        1.0  3266.000000  \n",
       "max           322.000000        1.0  4373.000000  "
      ]
     },
     "execution_count": 310,
     "metadata": {},
     "output_type": "execute_result"
    },
    {
     "data": {
      "image/png": "[encoded data removed]",
      "text/plain": [
       "<matplotlib.figure.Figure at 0x1246d2eb8>"
      ]
     },
     "metadata": {},
     "output_type": "display_data"
    }
   ],
   "source": [
    "x = data.where(data.readmit30 == 1).toPandas()\n",
    "x.hist()\n",
    "x.describe()"
   ]
  },
  {
   "cell_type": "markdown",
   "metadata": {},
   "source": [
    "# Distribution of not readmitted vs readmitted"
   ]
  },
  {
   "cell_type": "code",
   "execution_count": 311,
   "metadata": {
    "collapsed": false,
    "scrolled": false
   },
   "outputs": [
    {
     "name": "stdout",
     "output_type": "stream",
     "text": [
      "not readmitted\n",
      "+-------+----+------+----------+--------+--------------+-----------------+---------+---+\n",
      "|summary| age|female|flu_season|ed_admit|severity_score|comorbidity_score|readmit30| id|\n",
      "+-------+----+------+----------+--------+--------------+-----------------+---------+---+\n",
      "|  count|3384|  3384|      3384|    3384|          3384|             3384|     3384|  0|\n",
      "|   mean|  76|     0|         0|       1|            20|               83|        0|  1|\n",
      "| stddev|   8|     0|         0|       0|            16|               50|        0|  2|\n",
      "|    min|  65|     0|         0|       0|             1|                1|        0|  3|\n",
      "|    max| 105|     1|         1|       1|           100|              309|        0|  4|\n",
      "+-------+----+------+----------+--------+--------------+-----------------+---------+---+\n",
      "\n",
      "readmitted\n",
      "+-------+---+------+----------+--------+--------------+-----------------+---------+---+\n",
      "|summary|age|female|flu_season|ed_admit|severity_score|comorbidity_score|readmit30| id|\n",
      "+-------+---+------+----------+--------+--------------+-----------------+---------+---+\n",
      "|  count|998|   998|       998|     998|           998|              998|      998|  0|\n",
      "|   mean| 78|     1|         1|       1|            31|              135|        1|  1|\n",
      "| stddev|  8|     1|         0|       0|            21|               60|        0|  2|\n",
      "|    min| 65|     0|         0|       0|             1|                1|        1|  3|\n",
      "|    max|102|     1|         1|       1|           112|              322|        1|  4|\n",
      "+-------+---+------+----------+--------+--------------+-----------------+---------+---+\n",
      "\n",
      "difference\n",
      "+-------+----+------+----------+--------+--------------+-----------------+---------+\n",
      "|summary| age|female|flu_season|ed_admit|severity_score|comorbidity_score|readmit30|\n",
      "+-------+----+------+----------+--------+--------------+-----------------+---------+\n",
      "|  count|2386|  2386|      2386|    2386|          2386|             2386|     2386|\n",
      "|   mean|  -2|    -1|        -1|       0|           -11|              -52|       -1|\n",
      "| stddev|   0|    -1|         0|       0|            -5|              -10|        0|\n",
      "|    min|   0|     0|         0|       0|             0|                0|       -1|\n",
      "|    max|   3|     0|         0|       0|           -12|              -13|       -1|\n",
      "+-------+----+------+----------+--------+--------------+-----------------+---------+\n",
      "\n"
     ]
    }
   ],
   "source": [
    "def reassignSchema(df):\n",
    "    for n,column in enumerate(data.schema):\n",
    "        q = df[column.name]\n",
    "        #print(q.column.name)\n",
    "        df = df.withColumn(column.name, q.cast(column.dataType))\n",
    "    #define a primary key\n",
    "    df = df.withColumn(\"id\", monotonically_increasing_id())\n",
    "    return df\n",
    "def subtractRow1ByRow2(row1, row2):\n",
    "    #Row.fromSeq(s.split(\",\").zipWithIndex.collect{case (a,b) if n.contains(b) => a}.toSeq)\n",
    "    r = Row()\n",
    "    for key in row1:\n",
    "        r[key] = '1'\n",
    "    return Row(*r)\n",
    "x = data.where(data.readmit30 == 0).describe()\n",
    "y = data.where(data.readmit30 == 1).describe()\n",
    "x = reassignSchema(x) # describe converts all columns to string, undo that\n",
    "y = reassignSchema(y) # describe converts all columns to string, undo that\n",
    "z = x.join(y, on=x.id ==y.id).select(x.summary, (x.age-y.age).alias('age'), \\\n",
    "                                     (x.female-y.female).alias('female'), \\\n",
    "                                     (x.flu_season - y.flu_season).alias('flu_season'), \\\n",
    "                                     (x.ed_admit - y.ed_admit).alias('ed_admit'), \\\n",
    "                                     (x.severity_score - y.severity_score).alias(\"severity_score\"), \\\n",
    "                                     (x.comorbidity_score - y.comorbidity_score).alias('comorbidity_score'), \\\n",
    "                                     (x.readmit30 - y.readmit30).alias('readmit30'))\n",
    "z = z.toDF('summary','age','female', 'flu_season', 'ed_admit', 'severity_score', 'comorbidity_score', 'readmit30')\n",
    "difference = z\n",
    "print('not readmitted')\n",
    "x.show()\n",
    "print('readmitted')\n",
    "y.show()\n",
    "print('difference')\n",
    "z.show()"
   ]
  },
  {
   "cell_type": "markdown",
   "metadata": {},
   "source": [
    "# Analysis"
   ]
  },
  {
   "cell_type": "code",
   "execution_count": 312,
   "metadata": {
    "collapsed": false
   },
   "outputs": [
    {
     "name": "stdout",
     "output_type": "stream",
     "text": [
      "severity_score & comorbidity_score 0.1967585450865839\n",
      "severity_score & readmit30 0.2509424787829938\n",
      "readmit30 & comorbidity_score 0.3830477827244497\n"
     ]
    }
   ],
   "source": [
    "#correlation between...\n",
    "print('severity_score & comorbidity_score', data.stat.corr('severity_score', 'comorbidity_score'))\n",
    "print('severity_score & readmit30', data.stat.corr('severity_score', 'readmit30'))\n",
    "print('readmit30 & comorbidity_score', data.stat.corr('readmit30', 'comorbidity_score'))\n"
   ]
  },
  {
   "cell_type": "code",
   "execution_count": 426,
   "metadata": {
    "collapsed": false
   },
   "outputs": [
    {
     "name": "stdout",
     "output_type": "stream",
     "text": [
      "TRAINING ACCURACY:   0.6983154670750383\n"
     ]
    }
   ],
   "source": [
    "# Naive Bayes\n",
    "lpData = data.rdd.map(lambda seq: LabeledPoint(seq[-2],seq[:-3]))\n",
    "train, test = lpData.randomSplit([0.7, 0.3])\n",
    "model = NaiveBayes.train(train)\n",
    "result = test.map(lambda x: (model.predict(x.features), x.label))\n",
    "accuracy = 1.0 * result.filter(lambda x: x[0] == x[1]).count() / test.count()\n",
    "print(\"TRAINING ACCURACY:  \", accuracy)\n"
   ]
  },
  {
   "cell_type": "code",
   "execution_count": null,
   "metadata": {
    "collapsed": false
   },
   "outputs": [],
   "source": []
  },
  {
   "cell_type": "code",
   "execution_count": null,
   "metadata": {
    "collapsed": false
   },
   "outputs": [],
   "source": []
  },
  {
   "cell_type": "code",
   "execution_count": null,
   "metadata": {
    "collapsed": true
   },
   "outputs": [],
   "source": []
  },
  {
   "cell_type": "code",
   "execution_count": null,
   "metadata": {
    "collapsed": true
   },
   "outputs": [],
   "source": []
  },
  {
   "cell_type": "code",
   "execution_count": null,
   "metadata": {
    "collapsed": true
   },
   "outputs": [],
   "source": []
  },
  {
   "cell_type": "code",
   "execution_count": null,
   "metadata": {
    "collapsed": true
   },
   "outputs": [],
   "source": []
  },
  {
   "cell_type": "code",
   "execution_count": null,
   "metadata": {
    "collapsed": true
   },
   "outputs": [],
   "source": []
  },
  {
   "cell_type": "code",
   "execution_count": null,
   "metadata": {
    "collapsed": true
   },
   "outputs": [],
   "source": []
  },
  {
   "cell_type": "code",
   "execution_count": null,
   "metadata": {
    "collapsed": true
   },
   "outputs": [],
   "source": []
  },
  {
   "cell_type": "code",
   "execution_count": null,
   "metadata": {
    "collapsed": true
   },
   "outputs": [],
   "source": []
  }
 ],
 "metadata": {
  "anaconda-cloud": {},
  "kernelspec": {
   "display_name": "Python [Root]",
   "language": "python",
   "name": "Python [Root]"
  },
  "language_info": {
   "codemirror_mode": {
    "name": "ipython",
    "version": 3
   },
   "file_extension": ".py",
   "mimetype": "text/x-python",
   "name": "python",
   "nbconvert_exporter": "python",
   "pygments_lexer": "ipython3",
   "version": "3.5.2"
  }
 },
 "nbformat": 4,
 "nbformat_minor": 0
}
